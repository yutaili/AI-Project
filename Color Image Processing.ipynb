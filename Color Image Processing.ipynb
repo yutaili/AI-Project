{
 "cells": [
  {
   "cell_type": "markdown",
   "id": "152231c3",
   "metadata": {},
   "source": [
    "# Color Image Processing"
   ]
  },
  {
   "cell_type": "code",
   "execution_count": 237,
   "id": "b99ad4eb",
   "metadata": {},
   "outputs": [],
   "source": [
    "import os\n",
    "import numpy as np\n",
    "from PIL import Image\n",
    "import pandas as pd\n",
    "from matplotlib import pyplot"
   ]
  },
  {
   "cell_type": "code",
   "execution_count": 238,
   "id": "a8e0f9fa",
   "metadata": {},
   "outputs": [
    {
     "data": {
      "text/plain": [
       "'/Users/liyutai/GitHub/AI-Project'"
      ]
     },
     "execution_count": 238,
     "metadata": {},
     "output_type": "execute_result"
    }
   ],
   "source": [
    "os.getcwd()"
   ]
  },
  {
   "cell_type": "code",
   "execution_count": 239,
   "id": "f2ecd539",
   "metadata": {},
   "outputs": [],
   "source": [
    "labels = [\"angry\", \"disgust\", \"fear\", \"happy\", \"neutral\", \"sad\", \"surprise\"]"
   ]
  },
  {
   "cell_type": "code",
   "execution_count": 270,
   "id": "ea956a40",
   "metadata": {},
   "outputs": [],
   "source": [
    "os.chdir('/Users/liyutai/GitHub/AI-Project/MMAFEDB/valid')"
   ]
  },
  {
   "cell_type": "code",
   "execution_count": 271,
   "id": "cfdda1b3",
   "metadata": {},
   "outputs": [
    {
     "data": {
      "text/plain": [
       "'/Users/liyutai/GitHub/AI-Project/MMAFEDB/valid'"
      ]
     },
     "execution_count": 271,
     "metadata": {},
     "output_type": "execute_result"
    }
   ],
   "source": [
    "train_path = os.getcwd()\n",
    "train_path"
   ]
  },
  {
   "cell_type": "code",
   "execution_count": 272,
   "id": "85ddc9fb",
   "metadata": {},
   "outputs": [],
   "source": [
    "def transfer(label_list):\n",
    "    dataframe_d = []\n",
    "    for label in label_list:\n",
    "        c_path = train_path + \"/\" + label\n",
    "#         print(c_path)\n",
    "        for image_name in os.listdir(c_path):\n",
    "            if image_name.endswith(\".jpg\"):\n",
    "                img_path = c_path + \"/\" + image_name\n",
    "                img = Image.open(img_path).convert('L')\n",
    "#                 img = img.resize(48, 48)\n",
    "                img_array = np.asarray(img)\n",
    "                dataframe_d.append([image_name, img_array, label])\n",
    "                \n",
    "                \n",
    "    return(dataframe_d)"
   ]
  },
  {
   "cell_type": "code",
   "execution_count": 273,
   "id": "b498c0c2",
   "metadata": {},
   "outputs": [],
   "source": [
    "test_label = ['angry']\n",
    "dataframe = transfer(labels)"
   ]
  },
  {
   "cell_type": "code",
   "execution_count": 274,
   "id": "43a920f6",
   "metadata": {},
   "outputs": [
    {
     "data": {
      "text/html": [
       "<div>\n",
       "<style scoped>\n",
       "    .dataframe tbody tr th:only-of-type {\n",
       "        vertical-align: middle;\n",
       "    }\n",
       "\n",
       "    .dataframe tbody tr th {\n",
       "        vertical-align: top;\n",
       "    }\n",
       "\n",
       "    .dataframe thead th {\n",
       "        text-align: right;\n",
       "    }\n",
       "</style>\n",
       "<table border=\"1\" class=\"dataframe\">\n",
       "  <thead>\n",
       "    <tr style=\"text-align: right;\">\n",
       "      <th></th>\n",
       "      <th>img_name</th>\n",
       "      <th>img_array</th>\n",
       "      <th>label</th>\n",
       "    </tr>\n",
       "  </thead>\n",
       "  <tbody>\n",
       "    <tr>\n",
       "      <th>0</th>\n",
       "      <td>1041Exp0angry_expression_232.jpg</td>\n",
       "      <td>[[6, 148, 218, 181, 85, 122, 102, 52, 35, 27, ...</td>\n",
       "      <td>angry</td>\n",
       "    </tr>\n",
       "    <tr>\n",
       "      <th>1</th>\n",
       "      <td>Angry.31888.jpg</td>\n",
       "      <td>[[140, 143, 98, 33, 10, 21, 23, 16, 18, 19, 19...</td>\n",
       "      <td>angry</td>\n",
       "    </tr>\n",
       "    <tr>\n",
       "      <th>2</th>\n",
       "      <td>111Exp0angry_actor_700.jpg</td>\n",
       "      <td>[[10, 7, 15, 11, 13, 11, 12, 7, 21, 9, 35, 111...</td>\n",
       "      <td>angry</td>\n",
       "    </tr>\n",
       "    <tr>\n",
       "      <th>3</th>\n",
       "      <td>991Exp0angry_expression_108.jpg</td>\n",
       "      <td>[[190, 166, 154, 155, 151, 143, 135, 125, 137,...</td>\n",
       "      <td>angry</td>\n",
       "    </tr>\n",
       "    <tr>\n",
       "      <th>4</th>\n",
       "      <td>Angry.31877.jpg</td>\n",
       "      <td>[[247, 206, 120, 107, 89, 89, 104, 129, 123, 1...</td>\n",
       "      <td>angry</td>\n",
       "    </tr>\n",
       "  </tbody>\n",
       "</table>\n",
       "</div>"
      ],
      "text/plain": [
       "                           img_name  \\\n",
       "0  1041Exp0angry_expression_232.jpg   \n",
       "1                   Angry.31888.jpg   \n",
       "2        111Exp0angry_actor_700.jpg   \n",
       "3   991Exp0angry_expression_108.jpg   \n",
       "4                   Angry.31877.jpg   \n",
       "\n",
       "                                           img_array  label  \n",
       "0  [[6, 148, 218, 181, 85, 122, 102, 52, 35, 27, ...  angry  \n",
       "1  [[140, 143, 98, 33, 10, 21, 23, 16, 18, 19, 19...  angry  \n",
       "2  [[10, 7, 15, 11, 13, 11, 12, 7, 21, 9, 35, 111...  angry  \n",
       "3  [[190, 166, 154, 155, 151, 143, 135, 125, 137,...  angry  \n",
       "4  [[247, 206, 120, 107, 89, 89, 104, 129, 123, 1...  angry  "
      ]
     },
     "execution_count": 274,
     "metadata": {},
     "output_type": "execute_result"
    }
   ],
   "source": [
    "df = pd.DataFrame(dataframe, columns = ['img_name', \"img_array\", \"label\"])\n",
    "df.head()"
   ]
  },
  {
   "cell_type": "code",
   "execution_count": 275,
   "id": "477c7321",
   "metadata": {},
   "outputs": [
    {
     "data": {
      "text/plain": [
       "neutral     5839\n",
       "happy       5475\n",
       "sad         2236\n",
       "surprise    1474\n",
       "angry       1017\n",
       "fear         659\n",
       "disgust      656\n",
       "Name: label, dtype: int64"
      ]
     },
     "execution_count": 275,
     "metadata": {},
     "output_type": "execute_result"
    }
   ],
   "source": [
    "df[\"label\"].value_counts()"
   ]
  },
  {
   "cell_type": "code",
   "execution_count": 276,
   "id": "ab3ed2c6",
   "metadata": {},
   "outputs": [
    {
     "name": "stdout",
     "output_type": "stream",
     "text": [
      "<PIL.Image.Image image mode=L size=48x48 at 0x7FE1EE9D7040>\n"
     ]
    }
   ],
   "source": [
    "test_ary = df[\"img_array\"][1]\n",
    "pilImage = Image.fromarray(test_ary)\n",
    "print(pilImage)"
   ]
  },
  {
   "cell_type": "code",
   "execution_count": 277,
   "id": "8c5b3cbf",
   "metadata": {},
   "outputs": [
    {
     "data": {
      "text/plain": [
       "<matplotlib.image.AxesImage at 0x7fe1ee9d7190>"
      ]
     },
     "execution_count": 277,
     "metadata": {},
     "output_type": "execute_result"
    },
    {
     "data": {
      "image/png": "[encoded data removed]",
      "text/plain": [
       "<Figure size 432x288 with 1 Axes>"
      ]
     },
     "metadata": {
      "needs_background": "light"
     },
     "output_type": "display_data"
    }
   ],
   "source": [
    "ax = pyplot.subplot()\n",
    "ax.imshow(test_ary, cmap='gray')"
   ]
  },
  {
   "cell_type": "code",
   "execution_count": 218,
   "id": "00c185d8",
   "metadata": {},
   "outputs": [
    {
     "data": {
      "text/plain": [
       "(48, 48)"
      ]
     },
     "execution_count": 218,
     "metadata": {},
     "output_type": "execute_result"
    }
   ],
   "source": [
    "df[\"img_array\"][0].shape"
   ]
  },
  {
   "cell_type": "code",
   "execution_count": 210,
   "id": "61430875",
   "metadata": {},
   "outputs": [],
   "source": [
    "# for x in range(len(df)):\n",
    "#     df['img_array'][x] = df[\"img_array\"][x].flatten()"
   ]
  },
  {
   "cell_type": "code",
   "execution_count": 180,
   "id": "6768da26",
   "metadata": {},
   "outputs": [
    {
     "data": {
      "text/plain": [
       "(2304,)"
      ]
     },
     "execution_count": 180,
     "metadata": {},
     "output_type": "execute_result"
    }
   ],
   "source": [
    "# df[\"img_array\"][0].shap"
   ]
  },
  {
   "cell_type": "code",
   "execution_count": 278,
   "id": "a68deedc",
   "metadata": {},
   "outputs": [],
   "source": [
    "os.chdir(\"/Users/liyutai/GitHub/AI-Project\")\n",
    "df.to_json(\"color_valid.json\")"
   ]
  },
  {
   "cell_type": "code",
   "execution_count": 279,
   "id": "f2248113",
   "metadata": {},
   "outputs": [
    {
     "data": {
      "text/html": [
       "<div>\n",
       "<style scoped>\n",
       "    .dataframe tbody tr th:only-of-type {\n",
       "        vertical-align: middle;\n",
       "    }\n",
       "\n",
       "    .dataframe tbody tr th {\n",
       "        vertical-align: top;\n",
       "    }\n",
       "\n",
       "    .dataframe thead th {\n",
       "        text-align: right;\n",
       "    }\n",
       "</style>\n",
       "<table border=\"1\" class=\"dataframe\">\n",
       "  <thead>\n",
       "    <tr style=\"text-align: right;\">\n",
       "      <th></th>\n",
       "      <th>img_name</th>\n",
       "      <th>img_array</th>\n",
       "      <th>label</th>\n",
       "    </tr>\n",
       "  </thead>\n",
       "  <tbody>\n",
       "    <tr>\n",
       "      <th>0</th>\n",
       "      <td>1041Exp0angry_expression_232.jpg</td>\n",
       "      <td>[[6, 148, 218, 181, 85, 122, 102, 52, 35, 27, ...</td>\n",
       "      <td>angry</td>\n",
       "    </tr>\n",
       "    <tr>\n",
       "      <th>1</th>\n",
       "      <td>Angry.31888.jpg</td>\n",
       "      <td>[[140, 143, 98, 33, 10, 21, 23, 16, 18, 19, 19...</td>\n",
       "      <td>angry</td>\n",
       "    </tr>\n",
       "    <tr>\n",
       "      <th>2</th>\n",
       "      <td>111Exp0angry_actor_700.jpg</td>\n",
       "      <td>[[10, 7, 15, 11, 13, 11, 12, 7, 21, 9, 35, 111...</td>\n",
       "      <td>angry</td>\n",
       "    </tr>\n",
       "    <tr>\n",
       "      <th>3</th>\n",
       "      <td>991Exp0angry_expression_108.jpg</td>\n",
       "      <td>[[190, 166, 154, 155, 151, 143, 135, 125, 137,...</td>\n",
       "      <td>angry</td>\n",
       "    </tr>\n",
       "    <tr>\n",
       "      <th>4</th>\n",
       "      <td>Angry.31877.jpg</td>\n",
       "      <td>[[247, 206, 120, 107, 89, 89, 104, 129, 123, 1...</td>\n",
       "      <td>angry</td>\n",
       "    </tr>\n",
       "  </tbody>\n",
       "</table>\n",
       "</div>"
      ],
      "text/plain": [
       "                           img_name  \\\n",
       "0  1041Exp0angry_expression_232.jpg   \n",
       "1                   Angry.31888.jpg   \n",
       "2        111Exp0angry_actor_700.jpg   \n",
       "3   991Exp0angry_expression_108.jpg   \n",
       "4                   Angry.31877.jpg   \n",
       "\n",
       "                                           img_array  label  \n",
       "0  [[6, 148, 218, 181, 85, 122, 102, 52, 35, 27, ...  angry  \n",
       "1  [[140, 143, 98, 33, 10, 21, 23, 16, 18, 19, 19...  angry  \n",
       "2  [[10, 7, 15, 11, 13, 11, 12, 7, 21, 9, 35, 111...  angry  \n",
       "3  [[190, 166, 154, 155, 151, 143, 135, 125, 137,...  angry  \n",
       "4  [[247, 206, 120, 107, 89, 89, 104, 129, 123, 1...  angry  "
      ]
     },
     "execution_count": 279,
     "metadata": {},
     "output_type": "execute_result"
    }
   ],
   "source": [
    "df3 = pd.read_json(\"color_valid.json\")\n",
    "df3.head()"
   ]
  },
  {
   "cell_type": "code",
   "execution_count": null,
   "id": "e08ad09d",
   "metadata": {},
   "outputs": [],
   "source": []
  },
  {
   "cell_type": "code",
   "execution_count": 215,
   "id": "24193408",
   "metadata": {},
   "outputs": [],
   "source": [
    "df2 = pd.read_csv(\"color.csv\")"
   ]
  },
  {
   "cell_type": "code",
   "execution_count": 217,
   "id": "e19621b3",
   "metadata": {},
   "outputs": [
    {
     "data": {
      "text/plain": [
       "'[[ 33  35  35 ...  40  37  34]\\n [ 38  31  30 ...  39  38  35]\\n [ 36  30  37 ...  37  40  37]\\n ...\\n [ 42  42  42 ...  90  40  21]\\n [ 42  42  42 ... 117  75  18]\\n [ 42  42  42 ... 147 110  23]]'"
      ]
     },
     "execution_count": 217,
     "metadata": {},
     "output_type": "execute_result"
    }
   ],
   "source": [
    "# (df2[\"img_array\"][0].replace(\"\\n\", \",\"))\n",
    "df2[\"img_array\"][0]"
   ]
  },
  {
   "cell_type": "code",
   "execution_count": 236,
   "id": "9cbf3369",
   "metadata": {},
   "outputs": [
    {
     "ename": "AttributeError",
     "evalue": "'list' object has no attribute 'values'",
     "output_type": "error",
     "traceback": [
      "\u001b[0;31m---------------------------------------------------------------------------\u001b[0m",
      "\u001b[0;31mAttributeError\u001b[0m                            Traceback (most recent call last)",
      "\u001b[0;32m<ipython-input-236-ac5d349723d1>\u001b[0m in \u001b[0;36m<module>\u001b[0;34m\u001b[0m\n\u001b[0;32m----> 1\u001b[0;31m \u001b[0mnp\u001b[0m\u001b[0;34m.\u001b[0m\u001b[0marray\u001b[0m\u001b[0;34m(\u001b[0m\u001b[0mdf3\u001b[0m\u001b[0;34m[\u001b[0m\u001b[0;34m'img_array'\u001b[0m\u001b[0;34m]\u001b[0m\u001b[0;34m[\u001b[0m\u001b[0;36m0\u001b[0m\u001b[0;34m]\u001b[0m\u001b[0;34m.\u001b[0m\u001b[0mvalues\u001b[0m\u001b[0;34m.\u001b[0m\u001b[0mtolist\u001b[0m\u001b[0;34m(\u001b[0m\u001b[0;34m)\u001b[0m\u001b[0;34m)\u001b[0m\u001b[0;34m\u001b[0m\u001b[0;34m\u001b[0m\u001b[0m\n\u001b[0m",
      "\u001b[0;31mAttributeError\u001b[0m: 'list' object has no attribute 'values'"
     ]
    }
   ],
   "source": [
    "np.array(df3['img_array'][0].values.tolist())"
   ]
  },
  {
   "cell_type": "code",
   "execution_count": null,
   "id": "d34ccf6d",
   "metadata": {},
   "outputs": [],
   "source": []
  }
 ],
 "metadata": {
  "kernelspec": {
   "display_name": "Python 3",
   "language": "python",
   "name": "python3"
  },
  "language_info": {
   "codemirror_mode": {
    "name": "ipython",
    "version": 3
   },
   "file_extension": ".py",
   "mimetype": "text/x-python",
   "name": "python",
   "nbconvert_exporter": "python",
   "pygments_lexer": "ipython3",
   "version": "3.8.8"
  }
 },
 "nbformat": 4,
 "nbformat_minor": 5
}
