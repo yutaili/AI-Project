{
 "cells": [
  {
   "cell_type": "markdown",
   "id": "152231c3",
   "metadata": {},
   "source": [
    "# Color Image Processing"
   ]
  },
  {
   "cell_type": "code",
   "execution_count": 87,
   "id": "b99ad4eb",
   "metadata": {},
   "outputs": [],
   "source": [
    "import os\n",
    "import numpy as np\n",
    "from PIL import Image\n",
    "import pandas as pd\n",
    "from matplotlib import pyplot"
   ]
  },
  {
   "cell_type": "code",
   "execution_count": 88,
   "id": "a8e0f9fa",
   "metadata": {},
   "outputs": [
    {
     "data": {
      "text/plain": [
       "'/Users/liyutai/GitHub/AI-Project/MMAFEDB/train'"
      ]
     },
     "execution_count": 88,
     "metadata": {},
     "output_type": "execute_result"
    }
   ],
   "source": [
    "os.getcwd()"
   ]
  },
  {
   "cell_type": "code",
   "execution_count": 89,
   "id": "f2ecd539",
   "metadata": {},
   "outputs": [],
   "source": [
    "labels = [\"angry\", \"disgust\", \"fear\", \"happy\", \"neutral\", \"sad\", \"surprise\"]"
   ]
  },
  {
   "cell_type": "code",
   "execution_count": 90,
   "id": "ea956a40",
   "metadata": {},
   "outputs": [],
   "source": [
    "os.chdir('/Users/liyutai/GitHub/AI-Project/MMAFEDB/train')"
   ]
  },
  {
   "cell_type": "code",
   "execution_count": 91,
   "id": "cfdda1b3",
   "metadata": {},
   "outputs": [],
   "source": [
    "train_path = os.getcwd()"
   ]
  },
  {
   "cell_type": "code",
   "execution_count": 92,
   "id": "85ddc9fb",
   "metadata": {},
   "outputs": [],
   "source": [
    "def transfer(label_list):\n",
    "    dataframe_d = []\n",
    "    for label in label_list:\n",
    "        c_path = train_path + \"/\" + label\n",
    "#         print(c_path)\n",
    "        for image_name in os.listdir(c_path):\n",
    "            if image_name.endswith(\".jpg\"):\n",
    "                img_path = c_path + \"/\" + image_name\n",
    "                img = Image.open(img_path).convert('L')\n",
    "#                 img = img.resize(48, 48)\n",
    "                img_array = np.asarray(img)\n",
    "                dataframe_d.append([image_name, img_array, label])\n",
    "                \n",
    "                \n",
    "    return(dataframe_d)"
   ]
  },
  {
   "cell_type": "code",
   "execution_count": 93,
   "id": "b498c0c2",
   "metadata": {},
   "outputs": [],
   "source": [
    "test_label = ['angry']\n",
    "dataframe = transfer(labels)"
   ]
  },
  {
   "cell_type": "code",
   "execution_count": 94,
   "id": "43a920f6",
   "metadata": {},
   "outputs": [
    {
     "data": {
      "text/html": [
       "<div>\n",
       "<style scoped>\n",
       "    .dataframe tbody tr th:only-of-type {\n",
       "        vertical-align: middle;\n",
       "    }\n",
       "\n",
       "    .dataframe tbody tr th {\n",
       "        vertical-align: top;\n",
       "    }\n",
       "\n",
       "    .dataframe thead th {\n",
       "        text-align: right;\n",
       "    }\n",
       "</style>\n",
       "<table border=\"1\" class=\"dataframe\">\n",
       "  <thead>\n",
       "    <tr style=\"text-align: right;\">\n",
       "      <th></th>\n",
       "      <th>img_name</th>\n",
       "      <th>img_array</th>\n",
       "      <th>label</th>\n",
       "    </tr>\n",
       "  </thead>\n",
       "  <tbody>\n",
       "    <tr>\n",
       "      <th>0</th>\n",
       "      <td>Angry.9677.jpg</td>\n",
       "      <td>[[33, 35, 35, 30, 27, 30, 39, 46, 33, 42, 61, ...</td>\n",
       "      <td>angry</td>\n",
       "    </tr>\n",
       "    <tr>\n",
       "      <th>1</th>\n",
       "      <td>Angry.26462.jpg</td>\n",
       "      <td>[[103, 103, 95, 73, 50, 37, 36, 38, 41, 61, 72...</td>\n",
       "      <td>angry</td>\n",
       "    </tr>\n",
       "    <tr>\n",
       "      <th>2</th>\n",
       "      <td>19187Exp0frightened_programmer_292.jpg</td>\n",
       "      <td>[[180, 178, 176, 176, 177, 177, 178, 178, 178,...</td>\n",
       "      <td>angry</td>\n",
       "    </tr>\n",
       "    <tr>\n",
       "      <th>3</th>\n",
       "      <td>5035Exp0awe_teacher_414.jpg</td>\n",
       "      <td>[[77, 71, 69, 74, 77, 72, 63, 56, 53, 55, 60, ...</td>\n",
       "      <td>angry</td>\n",
       "    </tr>\n",
       "    <tr>\n",
       "      <th>4</th>\n",
       "      <td>18407Exp0frightened_by_the_movie_woman_2.jpg</td>\n",
       "      <td>[[29, 31, 72, 50, 46, 37, 66, 100, 107, 199, 1...</td>\n",
       "      <td>angry</td>\n",
       "    </tr>\n",
       "  </tbody>\n",
       "</table>\n",
       "</div>"
      ],
      "text/plain": [
       "                                       img_name  \\\n",
       "0                                Angry.9677.jpg   \n",
       "1                               Angry.26462.jpg   \n",
       "2        19187Exp0frightened_programmer_292.jpg   \n",
       "3                   5035Exp0awe_teacher_414.jpg   \n",
       "4  18407Exp0frightened_by_the_movie_woman_2.jpg   \n",
       "\n",
       "                                           img_array  label  \n",
       "0  [[33, 35, 35, 30, 27, 30, 39, 46, 33, 42, 61, ...  angry  \n",
       "1  [[103, 103, 95, 73, 50, 37, 36, 38, 41, 61, 72...  angry  \n",
       "2  [[180, 178, 176, 176, 177, 177, 178, 178, 178,...  angry  \n",
       "3  [[77, 71, 69, 74, 77, 72, 63, 56, 53, 55, 60, ...  angry  \n",
       "4  [[29, 31, 72, 50, 46, 37, 66, 100, 107, 199, 1...  angry  "
      ]
     },
     "execution_count": 94,
     "metadata": {},
     "output_type": "execute_result"
    }
   ],
   "source": [
    "df = pd.DataFrame(dataframe, columns = ['img_name', \"img_array\", \"label\"])\n",
    "df.head()"
   ]
  },
  {
   "cell_type": "code",
   "execution_count": 99,
   "id": "477c7321",
   "metadata": {},
   "outputs": [
    {
     "data": {
      "text/plain": [
       "neutral     29384\n",
       "happy       28592\n",
       "sad         12223\n",
       "surprise     8113\n",
       "angry        6566\n",
       "fear         4859\n",
       "disgust      3231\n",
       "Name: label, dtype: int64"
      ]
     },
     "execution_count": 99,
     "metadata": {},
     "output_type": "execute_result"
    }
   ],
   "source": [
    "df[\"label\"].value_counts()"
   ]
  },
  {
   "cell_type": "code",
   "execution_count": 95,
   "id": "ab3ed2c6",
   "metadata": {},
   "outputs": [
    {
     "name": "stdout",
     "output_type": "stream",
     "text": [
      "<PIL.Image.Image image mode=L size=48x48 at 0x7FE2BC9693A0>\n"
     ]
    }
   ],
   "source": [
    "test_ary = df[\"img_array\"][1]\n",
    "pilImage = Image.fromarray(test_ary)\n",
    "print(pilImage)"
   ]
  },
  {
   "cell_type": "code",
   "execution_count": 96,
   "id": "8c5b3cbf",
   "metadata": {},
   "outputs": [
    {
     "data": {
      "text/plain": [
       "<matplotlib.image.AxesImage at 0x7fe2bc9692b0>"
      ]
     },
     "execution_count": 96,
     "metadata": {},
     "output_type": "execute_result"
    },
    {
     "data": {
      "image/png": "[encoded data removed]",
      "text/plain": [
       "<Figure size 432x288 with 1 Axes>"
      ]
     },
     "metadata": {
      "needs_background": "light"
     },
     "output_type": "display_data"
    }
   ],
   "source": [
    "ax = pyplot.subplot()\n",
    "ax.imshow(test_ary, cmap='gray')"
   ]
  },
  {
   "cell_type": "code",
   "execution_count": 108,
   "id": "a68deedc",
   "metadata": {},
   "outputs": [],
   "source": [
    "os.chdir(\"/Users/liyutai/GitHub/AI-Project\")\n",
    "df.to_csv(\"color.csv\", index=False)"
   ]
  },
  {
   "cell_type": "code",
   "execution_count": null,
   "id": "24193408",
   "metadata": {},
   "outputs": [],
   "source": []
  }
 ],
 "metadata": {
  "kernelspec": {
   "display_name": "Python 3",
   "language": "python",
   "name": "python3"
  },
  "language_info": {
   "codemirror_mode": {
    "name": "ipython",
    "version": 3
   },
   "file_extension": ".py",
   "mimetype": "text/x-python",
   "name": "python",
   "nbconvert_exporter": "python",
   "pygments_lexer": "ipython3",
   "version": "3.8.8"
  }
 },
 "nbformat": 4,
 "nbformat_minor": 5
}
